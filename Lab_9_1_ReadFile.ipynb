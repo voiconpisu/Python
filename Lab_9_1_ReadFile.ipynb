{
  "nbformat": 4,
  "nbformat_minor": 0,
  "metadata": {
    "kernelspec": {
      "display_name": "Python 3",
      "language": "python",
      "name": "python3"
    },
    "language_info": {
      "codemirror_mode": {
        "name": "ipython",
        "version": 3
      },
      "file_extension": ".py",
      "mimetype": "text/x-python",
      "name": "python",
      "nbconvert_exporter": "python",
      "pygments_lexer": "ipython3",
      "version": "3.7.6"
    },
    "colab": {
      "provenance": [],
      "include_colab_link": true
    }
  },
  "cells": [
    {
      "cell_type": "markdown",
      "metadata": {
        "id": "view-in-github",
        "colab_type": "text"
      },
      "source": [
        "<a href=\"https://colab.research.google.com/github/voiconpisu/Python/blob/Lab_DiepNTHFX18004_Dep302/Lab_9_1_ReadFile.ipynb\" target=\"_parent\"><img src=\"https://colab.research.google.com/assets/colab-badge.svg\" alt=\"Open In Colab\"/></a>"
      ]
    },
    {
      "cell_type": "markdown",
      "metadata": {
        "id": "_KhoOa8Ge7Pc"
      },
      "source": [
        "# Đọc File trong Python\n",
        "\n",
        "Thời lượng ước tính: **40** phút\n",
        "\n",
        "## Mục tiêu\n",
        "\n",
        "Sau khi hoàn thành lab này, bạn sẽ có thể:\n",
        "\n",
        "-   Đọc file văn bản sử dụng thư viện Python\n"
      ]
    },
    {
      "cell_type": "markdown",
      "metadata": {
        "id": "CA6NvLZ6e7Pp"
      },
      "source": [
        "##<h2>Mục lục</h2>\n",
        "<div class=\"alert alert-block alert-info\" style=\"margin-top: 20px\">\n",
        "    <ul>\n",
        "        <li><a href=\"download\">Download dữ liệu</a></li>\n",
        "        <li><a href=\"read\">Đọc file văn bản</a></li>\n",
        "        <li><a href=\"better\">Cách tốt hơn để mở một file</a></li>\n",
        "    </ul>\n",
        "\n",
        "</div>\n",
        "\n",
        "<hr>\n"
      ]
    },
    {
      "cell_type": "markdown",
      "metadata": {
        "id": "qpUWLOIWe7Pq"
      },
      "source": [
        "##<h2 id=\"download\">Download dữ liệu </h2>\n"
      ]
    },
    {
      "cell_type": "code",
      "metadata": {
        "id": "hSDPpQy2e7Pq"
      },
      "source": [
        "import urllib.request\n",
        "url = 'https://cf-courses-data.s3.us.cloud-object-storage.appdomain.cloud/IBMDeveloperSkillsNetwork-PY0101EN-SkillsNetwork/labs/Module%204/data/example1.txt'\n",
        "filename = 'Example1.txt'\n",
        "urllib.request.urlretrieve(url, filename)"
      ],
      "execution_count": null,
      "outputs": []
    },
    {
      "cell_type": "code",
      "metadata": {
        "id": "yF9yXwAVe7Ps"
      },
      "source": [
        "# Download file ví dụ\n",
        "\n",
        "\n",
        "!wget -O /resources/data/Example1.txt https://cf-courses-data.s3.us.cloud-object-storage.appdomain.cloud/IBMDeveloperSkillsNetwork-PY0101EN-SkillsNetwork/labs/Module%204/data/example1.txt"
      ],
      "execution_count": null,
      "outputs": []
    },
    {
      "cell_type": "markdown",
      "metadata": {
        "id": "HUi_fA96e7Ps"
      },
      "source": [
        "<hr>\n"
      ]
    },
    {
      "cell_type": "markdown",
      "metadata": {
        "id": "xEpRcExRe7Pt"
      },
      "source": [
        "##<h2 id=\"read\">Đọc file văn bản</h2>\n"
      ]
    },
    {
      "cell_type": "markdown",
      "metadata": {
        "id": "sbhMBJ5De7Pt"
      },
      "source": [
        "Có một cách để đọc hoặc ghi file trong Python là sử dụng hàm <code>open</code> tích hợp sẵn. Hàm <code>open</code> cung cấp một <b>file object (đối tượng tệp)</b> chứa các phương thức và thuộc tính bạn cần để đọc, lưu và thao tác file. Trong notebook này, chúng ta sẽ chỉ trình bày các file <b>.txt</b>. Tham số đầu tiên bạn cần là đường dẫn file và tên file. Ví dụ như sau:\n"
      ]
    },
    {
      "cell_type": "markdown",
      "metadata": {
        "id": "hniT-UWAe7Pu"
      },
      "source": [
        "<img src=\"https://cf-courses-data.s3.us.cloud-object-storage.appdomain.cloud/IBMDeveloperSkillsNetwork-PY0101EN-SkillsNetwork/labs/Module%204/images/ReadOpen.png\" width=\"500\" />\n"
      ]
    },
    {
      "cell_type": "markdown",
      "metadata": {
        "id": "npFiWxdde7Pu"
      },
      "source": [
        "Đối số mode là tùy chọn và giá trị mặc định là <b>r</b>. Trong notebook này, chúng ta chỉ đề cập đến hai mode:\n",
        "\n",
        "<ul>\n",
        "    <li><b>r</b> Read mode để đọc các file </li>\n",
        "    <li><b>w</b> Write mode để ghi các file </li>\n",
        "</ul>\n"
      ]
    },
    {
      "cell_type": "markdown",
      "metadata": {
        "id": "6Gxea4KFe7Pu"
      },
      "source": [
        "Đối với ví dụ tiếp theo, chúng ta sẽ sử dụng file văn bản <b>Example1.txt</b>. File được hiển thị như sau:\n"
      ]
    },
    {
      "cell_type": "markdown",
      "metadata": {
        "id": "RKpRsvl_e7Pv"
      },
      "source": [
        "<img src=\"https://cf-courses-data.s3.us.cloud-object-storage.appdomain.cloud/IBMDeveloperSkillsNetwork-PY0101EN-SkillsNetwork/labs/Module%204/images/ReadFile.png\" width=\"100\" />\n"
      ]
    },
    {
      "cell_type": "markdown",
      "metadata": {
        "id": "HHMg7euee7Pv"
      },
      "source": [
        "Ta đọc file:\n"
      ]
    },
    {
      "cell_type": "code",
      "metadata": {
        "id": "Uzv8mjgQe7Pv"
      },
      "source": [
        "# Đọc file Example1.txt\n",
        "\n",
        "example1 = \"Example1.txt\"\n",
        "file1 = open(example1, \"r\")"
      ],
      "execution_count": null,
      "outputs": []
    },
    {
      "cell_type": "markdown",
      "metadata": {
        "id": "6BNPGRUme7Pw"
      },
      "source": [
        "Ta có thể xem các thuộc tính của file:\n"
      ]
    },
    {
      "cell_type": "markdown",
      "metadata": {
        "id": "2kWmIiTYe7Pw"
      },
      "source": [
        "Tên của file:\n"
      ]
    },
    {
      "cell_type": "code",
      "metadata": {
        "id": "euuxHVKje7Pw"
      },
      "source": [
        "# In ra đường dẫn của file\n",
        "\n",
        "file1.name"
      ],
      "execution_count": null,
      "outputs": []
    },
    {
      "cell_type": "markdown",
      "metadata": {
        "id": "QVD0Xx8Oe7Px"
      },
      "source": [
        "File object ở trong mode nào:\n"
      ]
    },
    {
      "cell_type": "code",
      "metadata": {
        "id": "tA64vt3je7Px"
      },
      "source": [
        "# In ra mode của file, 'r' hoặc 'w'\n",
        "\n",
        "file1.mode"
      ],
      "execution_count": null,
      "outputs": []
    },
    {
      "cell_type": "markdown",
      "metadata": {
        "id": "rRx2DZdWe7Py"
      },
      "source": [
        "Ta có thể đọc một file và gán nó với một biến:\n"
      ]
    },
    {
      "cell_type": "code",
      "metadata": {
        "id": "MH8F0n28e7Py"
      },
      "source": [
        "# Đọc file\n",
        "\n",
        "FileContent = file1.read()\n",
        "FileContent"
      ],
      "execution_count": null,
      "outputs": []
    },
    {
      "cell_type": "markdown",
      "metadata": {
        "id": "HNEFsQnIe7Py"
      },
      "source": [
        "<b>/n</b> có nghĩa là có một dòng mới.\n"
      ]
    },
    {
      "cell_type": "markdown",
      "metadata": {
        "id": "Y6dSO_1Te7Pz"
      },
      "source": [
        "Chúng ta có thể in file:\n"
      ]
    },
    {
      "cell_type": "code",
      "metadata": {
        "id": "5wyrYlOie7Pz"
      },
      "source": [
        "# In ra file với '\\n' là dòng mới\n",
        "\n",
        "print(FileContent)"
      ],
      "execution_count": null,
      "outputs": []
    },
    {
      "cell_type": "markdown",
      "metadata": {
        "id": "G8F2e0WMe7Pz"
      },
      "source": [
        "File thuộc kiểu string:\n"
      ]
    },
    {
      "cell_type": "code",
      "metadata": {
        "id": "acJUjWJHe7P0"
      },
      "source": [
        "# Kiểu của nội dung file\n",
        "\n",
        "type(FileContent)"
      ],
      "execution_count": null,
      "outputs": []
    },
    {
      "cell_type": "markdown",
      "metadata": {
        "id": "1BkPTLjSe7P0"
      },
      "source": [
        "Điều rất quan trọng là file cần được đóng khi kết thúc. Điều này giải phóng tài nguyên và đảm bảo tính nhất quán trên các phiên bản python khác nhau."
      ]
    },
    {
      "cell_type": "code",
      "metadata": {
        "id": "pJSaOo_Me7P1"
      },
      "source": [
        "# Đóng file sau khi hoàn thành\n",
        "\n",
        "file1.close()"
      ],
      "execution_count": null,
      "outputs": []
    },
    {
      "cell_type": "markdown",
      "metadata": {
        "id": "hMRg4OQye7P1"
      },
      "source": [
        "<hr>\n"
      ]
    },
    {
      "cell_type": "markdown",
      "metadata": {
        "id": "6-lQVfZce7P1"
      },
      "source": [
        "##<h2 id=\"better\">Cách tốt hơn để mở một file</h2>\n"
      ]
    },
    {
      "cell_type": "markdown",
      "metadata": {
        "id": "QiJ-iomle7P1"
      },
      "source": [
        "Cách tốt hơn là sử dụng câu lệnh <code>with</code>, nó sẽ tự động đóng file ngay cả khi code gặp phải một ngoại lệ. Code sẽ chạy mọi thứ trong khối thụt lề sau đó đóng đối file object.\n"
      ]
    },
    {
      "cell_type": "code",
      "metadata": {
        "id": "1UE_mnICe7P2"
      },
      "source": [
        "# Mở file sử dụng with\n",
        "\n",
        "with open(example1, \"r\") as file1:\n",
        "    FileContent = file1.read()\n",
        "    print(FileContent)"
      ],
      "execution_count": null,
      "outputs": []
    },
    {
      "cell_type": "markdown",
      "metadata": {
        "id": "gW81SjNMe7P2"
      },
      "source": [
        "File object đã bị đóng, bạn có thể xác minh nó bằng cách chạy cell sau:  \n"
      ]
    },
    {
      "cell_type": "code",
      "metadata": {
        "id": "ONKSN_dde7P2"
      },
      "source": [
        "# Xác minh xem file đã đóng chưa\n",
        "\n",
        "file1.closed"
      ],
      "execution_count": null,
      "outputs": []
    },
    {
      "cell_type": "markdown",
      "metadata": {
        "id": "tN6gJWu9e7P2"
      },
      "source": [
        "Chúng ta có thể thấy thông tin trong file:"
      ]
    },
    {
      "cell_type": "code",
      "metadata": {
        "id": "JbhCT4U8e7P3"
      },
      "source": [
        "# Xem thông tin của file\n",
        "\n",
        "print(FileContent)"
      ],
      "execution_count": null,
      "outputs": []
    },
    {
      "cell_type": "markdown",
      "metadata": {
        "id": "t0DNhabOe7P3"
      },
      "source": [
        "Cú pháp hơi khó hiểu vì đối tượng file nằm sau câu lệnh <code>as</code>. Chúng ta cũng không đóng file một cách rõ ràng. Do đó, chúng ta tóm tắt các bước trong hình:\n"
      ]
    },
    {
      "cell_type": "markdown",
      "metadata": {
        "id": "ZhWjSI3pe7P4"
      },
      "source": [
        "<img src=\"https://cf-courses-data.s3.us.cloud-object-storage.appdomain.cloud/IBMDeveloperSkillsNetwork-PY0101EN-SkillsNetwork/labs/Module%204/images/ReadWith.png\" width=\"500\" />\n"
      ]
    },
    {
      "cell_type": "markdown",
      "metadata": {
        "id": "DweXJERxe7P5"
      },
      "source": [
        "Ví dụ: chúng ta không phải đọc toàn bộ file, có thể đọc 4 ký tự đầu tiên bằng cách nhập 3 ký tự làm tham số cho phương thức**.read()**:\n"
      ]
    },
    {
      "cell_type": "code",
      "metadata": {
        "id": "Zb74auWve7P5"
      },
      "source": [
        "# Đọc 4 ký tự đầu tiên\n",
        "\n",
        "with open(example1, \"r\") as file1:\n",
        "    print(file1.read(4))"
      ],
      "execution_count": null,
      "outputs": []
    },
    {
      "cell_type": "markdown",
      "metadata": {
        "id": "ARnytw4je7P6"
      },
      "source": [
        "Khi phương thức <code>.read(4)</code> được gọi, 4 ký tự đầu tiên được gọi. Nếu chúng ta gọi lại phương thức, 4 ký tự tiếp theo sẽ được gọi. Output cho cell sau sẽ minh họa quy trình cho các input khác nhau cho phương thức <code>read()</code>:"
      ]
    },
    {
      "cell_type": "code",
      "metadata": {
        "id": "XmWF31P7e7P6"
      },
      "source": [
        "# Đọc một lượng ký tự nhất định\n",
        "\n",
        "with open(example1, \"r\") as file1:\n",
        "    print(file1.read(4))\n",
        "    print(file1.read(4))\n",
        "    print(file1.read(7))\n",
        "    print(file1.read(15))"
      ],
      "execution_count": null,
      "outputs": []
    },
    {
      "cell_type": "markdown",
      "metadata": {
        "id": "_SDAYgCAe7P6"
      },
      "source": [
        "Quá trình này được minh họa trong hình bên dưới và mỗi màu đại diện cho phần của file được đọc sau khi phương thức <code>read()</code> được gọi:\n"
      ]
    },
    {
      "cell_type": "markdown",
      "metadata": {
        "id": "Y95SfzzDe7P7"
      },
      "source": [
        "<img src=\"https://cf-courses-data.s3.us.cloud-object-storage.appdomain.cloud/IBMDeveloperSkillsNetwork-PY0101EN-SkillsNetwork/labs/Module%204/images/read.png\" width=\"500\" />\n"
      ]
    },
    {
      "cell_type": "markdown",
      "metadata": {
        "id": "8S7L21Ske7P7"
      },
      "source": [
        "Dưới đây là một ví dụ sử dụng cùng một file, nhưng thay vào đó chúng ta đọc 16, 5 và 9 ký tự cùng một lúc:\n"
      ]
    },
    {
      "cell_type": "code",
      "metadata": {
        "id": "3NaPrNMNe7P7"
      },
      "source": [
        "# Đọc một lượng ký tự nhất định\n",
        "\n",
        "with open(example1, \"r\") as file1:\n",
        "    print(file1.read(16))\n",
        "    print(file1.read(5))\n",
        "    print(file1.read(9))"
      ],
      "execution_count": null,
      "outputs": []
    },
    {
      "cell_type": "markdown",
      "metadata": {
        "id": "2dgeNAXpe7P7"
      },
      "source": [
        "Chúng ta cũng có thể đọc từng dòng của file bằng phương thức <code>readline()</code>:\n"
      ]
    },
    {
      "cell_type": "code",
      "metadata": {
        "id": "k2YaGyo-e7P8"
      },
      "source": [
        "# Đọc một dòng\n",
        "\n",
        "with open(example1, \"r\") as file1:\n",
        "    print(\"first line: \" + file1.readline())"
      ],
      "execution_count": null,
      "outputs": []
    },
    {
      "cell_type": "markdown",
      "metadata": {
        "id": "la71fLQqe7P8"
      },
      "source": [
        "Chúng ta cũng có thể truyền một đối số tới <code> readline()</code> để chỉ định số ký tự mà chúng ta muốn đọc. Tuy nhiên, không giống như <code> read()</code>, <code> readline()</code> chỉ có thể đọc nhiều nhất một dòng.\n"
      ]
    },
    {
      "cell_type": "code",
      "metadata": {
        "id": "amhB23_8e7P8"
      },
      "source": [
        "with open(example1, \"r\") as file1:\n",
        "    print(file1.readline(20)) # không đọc qua cuối dòng\n",
        "    print(file1.read(20)) # Trả về 20 ký tự tiếp theo\n"
      ],
      "execution_count": null,
      "outputs": []
    },
    {
      "cell_type": "markdown",
      "metadata": {
        "id": "zg8F4X8Me7P9"
      },
      "source": [
        "Chúng ta có thể sử dụng một vòng lặp để lặp lại qua từng dòng:\n"
      ]
    },
    {
      "cell_type": "code",
      "metadata": {
        "id": "uoG26jnDe7P9"
      },
      "source": [
        "# Lặp qua các dòng\n",
        "\n",
        "with open(example1,\"r\") as file1:\n",
        "        i = 0;\n",
        "        for line in file1:\n",
        "            print(\"Iteration\", str(i), \": \", line)\n",
        "            i = i + 1"
      ],
      "execution_count": null,
      "outputs": []
    },
    {
      "cell_type": "markdown",
      "metadata": {
        "id": "tyckMOc_e7P-"
      },
      "source": [
        "Chúng ta có thể sử dụng phương thức <code>readlines()</code> để lưu file văn bản vào một list:\n"
      ]
    },
    {
      "cell_type": "code",
      "metadata": {
        "id": "Nd5l_BnGe7P-"
      },
      "source": [
        "# Đọc tất cả các dòng và lưu thành một list\n",
        "\n",
        "with open(example1, \"r\") as file1:\n",
        "    FileasList = file1.readlines()"
      ],
      "execution_count": null,
      "outputs": []
    },
    {
      "cell_type": "markdown",
      "metadata": {
        "id": "yx9D79UGe7P-"
      },
      "source": [
        "Mỗi phần tử của list tương ứng với một dòng văn bản:\n"
      ]
    },
    {
      "cell_type": "code",
      "metadata": {
        "id": "1KcZwrcue7P-"
      },
      "source": [
        "# In dòng đầu tiên\n",
        "\n",
        "FileasList[0]"
      ],
      "execution_count": null,
      "outputs": []
    },
    {
      "cell_type": "code",
      "metadata": {
        "id": "wzbU6EGxoWWP"
      },
      "source": [
        "# In dòng thứ hai\n",
        "\n",
        "FileasList[1]"
      ],
      "execution_count": null,
      "outputs": []
    },
    {
      "cell_type": "code",
      "metadata": {
        "id": "Si6-UeWwe7P_"
      },
      "source": [
        "# In dòng thứ ba\n",
        "\n",
        "FileasList[2]"
      ],
      "execution_count": null,
      "outputs": []
    }
  ]
}