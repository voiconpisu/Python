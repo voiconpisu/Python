{
  "nbformat": 4,
  "nbformat_minor": 0,
  "metadata": {
    "kernelspec": {
      "display_name": "Python 3",
      "language": "python",
      "name": "python3"
    },
    "language_info": {
      "codemirror_mode": {
        "name": "ipython",
        "version": 3
      },
      "file_extension": ".py",
      "mimetype": "text/x-python",
      "name": "python",
      "nbconvert_exporter": "python",
      "pygments_lexer": "ipython3",
      "version": "3.7.6"
    },
    "colab": {
      "provenance": [],
      "include_colab_link": true
    }
  },
  "cells": [
    {
      "cell_type": "markdown",
      "metadata": {
        "id": "view-in-github",
        "colab_type": "text"
      },
      "source": [
        "<a href=\"https://colab.research.google.com/github/voiconpisu/Python/blob/main/Lab_9_2_WriteFile.ipynb\" target=\"_parent\"><img src=\"https://colab.research.google.com/assets/colab-badge.svg\" alt=\"Open In Colab\"/></a>"
      ]
    },
    {
      "cell_type": "markdown",
      "metadata": {
        "id": "5IXlvgLmTSih"
      },
      "source": [
        "# Đọc và Lưu file trong Python\n",
        "\n",
        "Thời lượng ước tính: **25** phút\n",
        "\n",
        "## Mục tiêu\n",
        "\n",
        "Sau khi hoàn thành lab này, bạn sẽ có thể:\n",
        "\n",
        "-   Ghi vào file sử dụng thư viện Python\n"
      ]
    },
    {
      "cell_type": "markdown",
      "metadata": {
        "id": "Z-66BvvyTSix"
      },
      "source": [
        "##<h2>Mục lục</h2>\n",
        "<div class=\"alert alert-block alert-info\" style=\"margin-top: 20px\">\n",
        "    <ul>\n",
        "        <li><a href=\"write\">Ghi file</a></li>\n",
        "        <li><a href=\"Append\">Nối file</a></li>\n",
        "        <li><a href=\"add\">Các mode file khác</a></li>\n",
        "        <li><a href=\"copy\">Sao chép file</a></li>\n",
        "        <li><a href=\"exercise\">Exercises</a></li>\n",
        "    </ul>\n",
        "\n",
        "</div>\n",
        "\n",
        "<hr>\n"
      ]
    },
    {
      "cell_type": "markdown",
      "metadata": {
        "id": "hyDEesPDTSiz"
      },
      "source": [
        "##<h2 id=\"write\">Ghi File</h2>\n"
      ]
    },
    {
      "cell_type": "markdown",
      "metadata": {
        "id": "eGzXg_b0TSiz"
      },
      "source": [
        "Ta có thể mở một file object sử dụng phương thức <code>write()</code> để lưu file văn bản vào một list. Để ghi vào file, cần thiết lập đối số thành <b>w</b>. Hãy ghi file <b>Example2.txt</b> với dòng: <b>“This is line A”</b>\n"
      ]
    },
    {
      "cell_type": "code",
      "metadata": {
        "id": "mkOO6oNyTSi0"
      },
      "source": [
        "# Ghi dòng vào file\n",
        "exmp2 = '/resources/data/Example2.txt'\n",
        "with open(exmp2, 'w') as writefile:\n",
        "    writefile.write(\"This is line A\")"
      ],
      "execution_count": null,
      "outputs": []
    },
    {
      "cell_type": "markdown",
      "metadata": {
        "id": "qoxGJFcaTSi5"
      },
      "source": [
        "Ta có thể đọc file xem nó có hoạt động không\n"
      ]
    },
    {
      "cell_type": "code",
      "metadata": {
        "id": "NoRc2NgMTSi6"
      },
      "source": [
        "# Đọc file\n",
        "\n",
        "with open(exmp2, 'r') as testwritefile:\n",
        "    print(testwritefile.read())"
      ],
      "execution_count": null,
      "outputs": []
    },
    {
      "cell_type": "markdown",
      "metadata": {
        "id": "VX1qaRmYTSi6"
      },
      "source": [
        "Ta có thể ghi nhiều dòng\n"
      ]
    },
    {
      "cell_type": "code",
      "metadata": {
        "id": "1j0u8Fy6TSi7"
      },
      "source": [
        "# Ghi nhiều dòng vào file\n",
        "\n",
        "with open(exmp2, 'w') as writefile:\n",
        "    writefile.write(\"This is line A\\n\")\n",
        "    writefile.write(\"This is line B\\n\")"
      ],
      "execution_count": null,
      "outputs": []
    },
    {
      "cell_type": "markdown",
      "metadata": {
        "id": "9jvWfBQ-TSi7"
      },
      "source": [
        "Phương thức <code>.write()</code> hoạt động tương tự như phương thức <code>.readline()</code>, ngoại trừ việc thay vì đọc một dòng mới, nó sẽ ghi một dòng mới. Quá trình này được minh họa trong hình, mã màu khác nhau của lưới biểu thị một dòng mới được thêm vào file sau mỗi lần gọi phương thức.\n"
      ]
    },
    {
      "cell_type": "markdown",
      "metadata": {
        "id": "WbM-n4rvTSi8"
      },
      "source": [
        "<img src=\"https://cf-courses-data.s3.us.cloud-object-storage.appdomain.cloud/IBMDeveloperSkillsNetwork-PY0101EN-SkillsNetwork/labs/Module%204/images/WriteLine.png\" width=\"500\" />\n"
      ]
    },
    {
      "cell_type": "markdown",
      "metadata": {
        "id": "1A_P6DYSTSi8"
      },
      "source": [
        "Bạn có thể kiểm tra file xem kết quả của bạn có chính xác không\n"
      ]
    },
    {
      "cell_type": "code",
      "metadata": {
        "id": "tOrAYmqMTSi8"
      },
      "source": [
        "# Kiểm trta ghi vào file\n",
        "\n",
        "with open(exmp2, 'r') as testwritefile:\n",
        "    print(testwritefile.read())"
      ],
      "execution_count": null,
      "outputs": []
    },
    {
      "cell_type": "markdown",
      "metadata": {
        "id": "bg0N5mDVTSi9"
      },
      "source": [
        "Chúng ta ghi một list vào file <b>.txt</b> như sau:\n"
      ]
    },
    {
      "cell_type": "code",
      "metadata": {
        "id": "6-x0O8drTSi9"
      },
      "source": [
        "# List văn bản mẫu\n",
        "\n",
        "Lines = [\"This is line A\\n\", \"This is line B\\n\", \"This is line C\\n\"]\n",
        "Lines"
      ],
      "execution_count": null,
      "outputs": []
    },
    {
      "cell_type": "code",
      "metadata": {
        "id": "Fu6GuXM9TSi-"
      },
      "source": [
        "# Ghi các string trong list vào file văn bản\n",
        "\n",
        "with open('Example2.txt', 'w') as writefile:\n",
        "    for line in Lines:\n",
        "        print(line)\n",
        "        writefile.write(line)"
      ],
      "execution_count": null,
      "outputs": []
    },
    {
      "cell_type": "markdown",
      "metadata": {
        "id": "Peh6H2uJTSi-"
      },
      "source": [
        "Chúng ta có thể xác thực file được viết bằng cách đọc và in ra các giá trị:\n"
      ]
    },
    {
      "cell_type": "code",
      "metadata": {
        "id": "DJXMFVHBTSi-"
      },
      "source": [
        "# Xác thực xem ghi vào file có thực hiện thành công không\n",
        "\n",
        "with open('Example2.txt', 'r') as testwritefile:\n",
        "    print(testwritefile.read())"
      ],
      "execution_count": null,
      "outputs": []
    },
    {
      "cell_type": "markdown",
      "metadata": {
        "id": "pBYNDnAwTSi_"
      },
      "source": [
        "Tuy nhiên, lưu ý rằng việc đặt mode thành **w** sẽ ghi đè lên tất cả dữ liệu hiện có trong file.\n"
      ]
    },
    {
      "cell_type": "code",
      "metadata": {
        "id": "Ef4ZPlLoTSi_"
      },
      "source": [
        "with open('Example2.txt', 'w') as writefile:\n",
        "    writefile.write(\"Overwrite\\n\")\n",
        "with open('Example2.txt', 'r') as testwritefile:\n",
        "    print(testwritefile.read())"
      ],
      "execution_count": null,
      "outputs": []
    },
    {
      "cell_type": "markdown",
      "metadata": {
        "id": "K5Hjcrt5TSjA"
      },
      "source": [
        "##<h2 id=\"Append\">Thêm vào file</h2>\n"
      ]
    },
    {
      "cell_type": "markdown",
      "metadata": {
        "id": "aNDFKit9TSjA"
      },
      "source": [
        "Chúng ta có thể ghi vào file mà không làm mất bất kỳ dữ liệu hiện có nào như sau bằng cách đặt đối số mode thành append **a**. Bạn có thể thêm một dòng mới như sau:\n"
      ]
    },
    {
      "cell_type": "code",
      "metadata": {
        "id": "zdHLhJOkTSjA"
      },
      "source": [
        "# Ghi một dòng mới vào file văn bản\n",
        "\n",
        "with open('Example2.txt', 'a') as testwritefile:\n",
        "    testwritefile.write(\"This is line C\\n\")\n",
        "    testwritefile.write(\"This is line D\\n\")\n",
        "    testwritefile.write(\"This is line E\\n\")"
      ],
      "execution_count": null,
      "outputs": []
    },
    {
      "cell_type": "markdown",
      "metadata": {
        "id": "hqlu2ek0TSjA"
      },
      "source": [
        "Bạn có thể xác thực file đã thay đổi bằng cách chạy cell sau:"
      ]
    },
    {
      "cell_type": "code",
      "metadata": {
        "id": "UBD3MPruTSjB"
      },
      "source": [
        "# Xác thực dòng mới có trong file văn bản chưa\n",
        "\n",
        "with open('Example2.txt', 'r') as testwritefile:\n",
        "    print(testwritefile.read())"
      ],
      "execution_count": null,
      "outputs": []
    },
    {
      "cell_type": "markdown",
      "metadata": {
        "id": "-vA8_wsHTSjB"
      },
      "source": [
        "##<h2 id=\"add\">Các mode khác</h2>\n"
      ]
    },
    {
      "cell_type": "markdown",
      "metadata": {
        "id": "olfwBOdvTSjC"
      },
      "source": [
        "Việc mở file bằng  **a** hoặc **w** và sau đó mở lại trong **r** để đọc bất kỳ dòng nào khá là không hiệu quả. May mắn thay, chúng ta có thể truy cập file ở các mode sau:\n",
        "\n",
        "-   **r+**  Đọc và ghi. Không thể cắt ngắn file.\n",
        "-   **w+** : Ghi và đọc. Cắt bớt file.\n",
        "-   **a+** : Ghi thêm và Đọc. Tạo một file mới nếu không có file nào tồn tại. Bạn không cần phải tìm hiểu chi tiết cụ thể của từng mode cho lab này.\n"
      ]
    },
    {
      "cell_type": "markdown",
      "metadata": {
        "id": "NREhHHeSTSjC"
      },
      "source": [
        "Hãy thử mode **a+**:\n"
      ]
    },
    {
      "cell_type": "code",
      "metadata": {
        "id": "-yRXter0TSjD"
      },
      "source": [
        "with open('Example2.txt', 'a+') as testwritefile:\n",
        "    testwritefile.write(\"This is line E\\n\")\n",
        "    print(testwritefile.read())"
      ],
      "execution_count": null,
      "outputs": []
    },
    {
      "cell_type": "markdown",
      "metadata": {
        "id": "ZtyS0jnYTSjD"
      },
      "source": [
        "Không có lỗi nhưng <code>read() </code> cũng không xuất ra bất kỳ thứ gì. Điều này là do vị trí của chúng ta trong file."
      ]
    },
    {
      "cell_type": "markdown",
      "metadata": {
        "id": "NUVtTQo8TSjD"
      },
      "source": [
        "Hầu hết các phương thức file mà chúng ta đã xem đều hoạt động ở một vị trí nhất định trong file. <code>.write() </code> ghi tại một vị trí nhất định trong file. <code>.read()</code> đọc tại một vị trí nhất định trong file,... Bạn có thể coi điều này giống như việc di chuyển con trỏ của bạn trong notepad để thực hiện các thay đổi tại vị trí cụ thể.\n"
      ]
    },
    {
      "cell_type": "markdown",
      "metadata": {
        "id": "YWXnJwXETSjE"
      },
      "source": [
        "Mở file trong **w** cũng giống như mở file .txt, di chuyển con trỏ của bạn đến đầu file văn bản, viết văn bản mới và xóa mọi thứ sau đó.\n",
        "Trong khi đó, việc mở file bằng **a** tương tự như mở file .txt, di chuyển con trỏ của bạn đến cuối và sau đó thêm các đoạn văn bản mới. <br>\n",
        "Thường rất hữu ích khi biết vị trí của 'con trỏ' trong file và có thể kiểm soát nó. Các phương thức sau đây cho phép chúng ta thực hiện điều này chính xác -\n",
        "\n",
        "-   <code>.tell()</code> - trả về vị trí hiện tại tính bằng byte\n",
        "-   <code>.seek(offset,from)</code> - thay đổi vị trí của byte 'offset' đối với 'from'. From có thể lấy giá trị 0,1,2 tương ứng với phần đầu, liên quan đến vị trí hiện tại và phần cuối\n"
      ]
    },
    {
      "cell_type": "markdown",
      "metadata": {
        "id": "skgl7RZvTSjF"
      },
      "source": [
        "Bây giờ hãy quay lại với **a+**\n"
      ]
    },
    {
      "cell_type": "code",
      "metadata": {
        "id": "v5sQBJwOTSjH"
      },
      "source": [
        "with open('Example2.txt', 'a+') as testwritefile:\n",
        "    print(\"Initial Location: {}\".format(testwritefile.tell()))\n",
        "\n",
        "    data = testwritefile.read()\n",
        "    if (not data):  #empty strings return false in python\n",
        "            print('Read nothing')\n",
        "    else:\n",
        "            print(testwritefile.read())\n",
        "\n",
        "    testwritefile.seek(0,0) # move 0 bytes from beginning.\n",
        "\n",
        "    print(\"\\nNew Location : {}\".format(testwritefile.tell()))\n",
        "    data = testwritefile.read()\n",
        "    if (not data):\n",
        "            print('Read nothing')\n",
        "    else:\n",
        "            print(data)\n",
        "\n",
        "    print(\"Location after read: {}\".format(testwritefile.tell()) )"
      ],
      "execution_count": null,
      "outputs": []
    },
    {
      "cell_type": "markdown",
      "metadata": {
        "id": "LQ-XIW_uTSjH"
      },
      "source": [
        "Cuối cùng, một lưu ý về sự khác biệt giữa **w+** và **r+**. Cả hai mode này đều cho phép truy cập các phương thức đọc và ghi. Tuy nhiên, việc mở file trong **w+** sẽ ghi đè file đó và xóa tất cả dữ liệu hiện có. <br>\n",
        "Để làm việc với file trên dữ liệu hiện có, hãy sử dụng **r+** và **a+**. Trong khi sử dụng **r+**, bạn nên thêm phương thức <code>.truncate()</code> vào cuối dữ liệu của bạn. Điều này sẽ giảm file dữ liệu của bạn và xóa mọi thứ đi cùng  phần giảm đó. <br>\n",
        "Trong khối code sau, chạy code như lúc đầu và sau đó chạy với <code>.truncate()</code>.\n"
      ]
    },
    {
      "cell_type": "code",
      "metadata": {
        "id": "xb7iU4H0TSjI"
      },
      "source": [
        "with open('Example2.txt', 'r+') as testwritefile:\n",
        "    data = testwritefile.readlines()\n",
        "    testwritefile.seek(0,0) #write at beginning of file\n",
        "\n",
        "    testwritefile.write(\"Line 1\" + \"\\n\")\n",
        "    testwritefile.write(\"Line 2\" + \"\\n\")\n",
        "    testwritefile.write(\"Line 3\" + \"\\n\")\n",
        "    testwritefile.write(\"finished\\n\")\n",
        "    #Uncomment the line below\n",
        "    #testwritefile.truncate()\n",
        "    testwritefile.seek(0,0)\n",
        "    print(testwritefile.read())\n",
        ""
      ],
      "execution_count": null,
      "outputs": []
    },
    {
      "cell_type": "markdown",
      "metadata": {
        "id": "3BBIQxCtTSjJ"
      },
      "source": [
        "<hr>\n"
      ]
    },
    {
      "cell_type": "markdown",
      "metadata": {
        "id": "sPqxaQwSTSjJ"
      },
      "source": [
        "##<h2 id=\"copy\">Sao chép file</h2>\n"
      ]
    },
    {
      "cell_type": "markdown",
      "metadata": {
        "id": "0m_tneo6TSjK"
      },
      "source": [
        "Hãy sao chép file <b>Example2.txt</b> vào file <b>Example3.txt</b>:\n"
      ]
    },
    {
      "cell_type": "code",
      "metadata": {
        "id": "0VhaWIBsTSjK"
      },
      "source": [
        "# Sao chép file vào một file khác\n",
        "\n",
        "with open('Example2.txt','r') as readfile:\n",
        "    with open('Example3.txt','w') as writefile:\n",
        "          for line in readfile:\n",
        "                writefile.write(line)"
      ],
      "execution_count": null,
      "outputs": []
    },
    {
      "cell_type": "markdown",
      "metadata": {
        "id": "jppXHTcETSjK"
      },
      "source": [
        "Ta có thể đọc file để xem mọi thứ có hoạt động không:\n"
      ]
    },
    {
      "cell_type": "code",
      "metadata": {
        "id": "DzoOu1RgTSjL"
      },
      "source": [
        "# Xác nhận xem sao chép có thành công không\n",
        "\n",
        "with open('Example3.txt','r') as testwritefile:\n",
        "    print(testwritefile.read())"
      ],
      "execution_count": null,
      "outputs": []
    },
    {
      "cell_type": "markdown",
      "metadata": {
        "id": "MwmxtfhTTSjL"
      },
      "source": [
        "Sau khi đọc file, chúng ta cũng có thể ghi dữ liệu vào file và lưu chúng ở các định dạng file khác nhau như **.txt, .csv, .xls (đối với file excel),...**. Bạn sẽ gặp những định dạng này ở các ví dụ khác\n"
      ]
    },
    {
      "cell_type": "markdown",
      "metadata": {
        "id": "AtMGcPoXTSjL"
      },
      "source": [
        "Bây giờ hãy chuyển đến thư mục để đảm bảo file <b>.txt</b> tồn tại và chứa dữ liệu tóm tắt mà chúng ta đã viết.\n"
      ]
    },
    {
      "cell_type": "markdown",
      "metadata": {
        "id": "VqFl6mEbTSjM"
      },
      "source": [
        "<hr>\n"
      ]
    },
    {
      "cell_type": "markdown",
      "metadata": {
        "id": "sCGCFxnsTSjM"
      },
      "source": [
        "##<h2>Exercise </h2>\n"
      ]
    },
    {
      "cell_type": "markdown",
      "metadata": {
        "id": "WY7pEAS6TSjM"
      },
      "source": [
        "Câu lạc bộ người hâm mộ Raptors của trường đại học tại địa phương của bạn duy trì danh sách các thành viên tích cực của mình trên tài liệu .txt. Hàng tháng, họ cập nhật file bằng cách loại bỏ các thành viên không hoạt động. Bạn đã được giao nhiệm vụ tự động hóa điều này bằng các kỹ năng python của mình. <br>\n",
        "Với file currentMem, loại từng thành viên có 'no' trong cột Active. Theo dõi từng thành viên đã bị loại bỏ và thêm họ vào file exMem. Hãy đảm bảo định dạng của file gốc được giữ nguyên.\n",
        "(_Gợi ý: Làm điều này bằng cách đọc/ghi toàn bộ các dòng và đảm bảo vẫn giữ nguyên tiêu đề_)\n",
        "<br>\n",
        "Chạy khối code bên dưới trước khi bắt đầu exercise. Khung code đã cung cấp cho bạn, bạn chỉ chỉnh sửa hàm cleanFiles.\n"
      ]
    },
    {
      "cell_type": "code",
      "metadata": {
        "id": "s9MX6A01TSjN"
      },
      "source": [
        "#Chạy cái này trước khi bắt đầu exercise\n",
        "from random import randint as rnd\n",
        "\n",
        "memReg = 'members.txt'\n",
        "exReg = 'inactive.txt'\n",
        "fee =('yes','no')\n",
        "\n",
        "def genFiles(current,old):\n",
        "    with open(current,'w+') as writefile:\n",
        "        writefile.write('Membership No  Date Joined  Active  \\n')\n",
        "        data = \"{:^13}  {:<11}  {:<6}\\n\"\n",
        "\n",
        "        for rowno in range(20):\n",
        "            date = str(rnd(2015,2020))+ '-' + str(rnd(1,12))+'-'+str(rnd(1,25))\n",
        "            writefile.write(data.format(rnd(10000,99999),date,fee[rnd(0,1)]))\n",
        "\n",
        "\n",
        "    with open(old,'w+') as writefile:\n",
        "        writefile.write('Membership No  Date Joined  Active  \\n')\n",
        "        data = \"{:^13}  {:<11}  {:<6}\\n\"\n",
        "        for rowno in range(3):\n",
        "            date = str(rnd(2015,2020))+ '-' + str(rnd(1,12))+'-'+str(rnd(1,25))\n",
        "            writefile.write(data.format(rnd(10000,99999),date,fee[1]))\n",
        "\n",
        "\n",
        "genFiles(memReg,exReg)\n"
      ],
      "execution_count": null,
      "outputs": []
    },
    {
      "cell_type": "markdown",
      "metadata": {
        "id": "25fG9kClTSjN"
      },
      "source": [
        "Bắt đầu lời giải ở dưới:\n"
      ]
    },
    {
      "cell_type": "code",
      "metadata": {
        "id": "Mc7LNITQTSjO"
      },
      "source": [
        "\n",
        "def cleanFiles(currentMem,exMem):\n",
        "    '''\n",
        "    currentMem: File containing list of current members\n",
        "    exMem: File containing list of old members\n",
        "\n",
        "    Removes all rows from currentMem containing 'no' and appends them to exMem\n",
        "    '''\n",
        "\n",
        "    pass\n",
        "\n",
        "\n",
        "# Code giúp bạn thấy file\n",
        "# Để như sau\n",
        "memReg = 'members.txt'\n",
        "exReg = 'inactive.txt'\n",
        "cleanFiles(memReg,exReg)\n",
        "\n",
        "\n",
        "headers = \"Membership No  Date Joined  Active  \\n\"\n",
        "with open(memReg,'r') as readFile:\n",
        "    print(\"Active Members: \\n\\n\")\n",
        "    print(readFile.read())\n",
        "\n",
        "with open(exReg,'r') as readFile:\n",
        "    print(\"Inactive Members: \\n\\n\")\n",
        "    print(readFile.read())\n",
        "\n",
        ""
      ],
      "execution_count": null,
      "outputs": []
    },
    {
      "cell_type": "markdown",
      "metadata": {
        "id": "8YvYf10QTSjO"
      },
      "source": [
        "Chạy khối code sau để xác thực code của bạn:"
      ]
    },
    {
      "cell_type": "code",
      "metadata": {
        "id": "4_pCXFIGTSjP"
      },
      "source": [
        "def testMsg(passed):\n",
        "    if passed:\n",
        "       return 'Test Passed'\n",
        "    else :\n",
        "       return 'Test Failed'\n",
        "\n",
        "testWrite = \"testWrite.txt\"\n",
        "testAppend = \"testAppend.txt\"\n",
        "passed = True\n",
        "\n",
        "genFiles(testWrite,testAppend)\n",
        "\n",
        "with open(testWrite,'r') as file:\n",
        "    ogWrite = file.readlines()\n",
        "\n",
        "with open(testAppend,'r') as file:\n",
        "    ogAppend = file.readlines()\n",
        "\n",
        "try:\n",
        "    cleanFiles(testWrite,testAppend)\n",
        "except:\n",
        "    print('Error')\n",
        "\n",
        "with open(testWrite,'r') as file:\n",
        "    clWrite = file.readlines()\n",
        "\n",
        "with open(testAppend,'r') as file:\n",
        "    clAppend = file.readlines()\n",
        "\n",
        "# kiểm tra xem không có bất kỳ hàng nào giống nhau, bao gồm tiêu đề\n",
        "\n",
        "if (len(ogWrite) + len(ogAppend) != len(clWrite) + len(clAppend)):\n",
        "    print(\"The number of rows do not add up. Make sure your final files have the same header and format.\")\n",
        "    passed = False\n",
        "\n",
        "for line in clWrite:\n",
        "    if  'no' in line:\n",
        "        passed = False\n",
        "        print(\"Inactive members in file\")\n",
        "        break\n",
        "    else:\n",
        "        if line not in ogWrite:\n",
        "            print(\"Data in file does not match original file\")\n",
        "            passed = False\n",
        "print (\"{}\".format(testMsg(passed)))\n",
        "\n",
        "\n"
      ],
      "execution_count": null,
      "outputs": []
    },
    {
      "cell_type": "markdown",
      "metadata": {
        "id": "DU6-Nwo8TSjP"
      },
      "source": [
        "<details><summary>Click vào đây để xem lời giải</summary>\n",
        "\n",
        "```python\n",
        "def cleanFiles(currentMem,exMem):\n",
        "    with open(currentMem,'r+') as writeFile:\n",
        "        with open(exMem,'a+') as appendFile:\n",
        "            #lấy dữ liệu\n",
        "            writeFile.seek(0)\n",
        "            members = writeFile.readlines()\n",
        "            #loại bỏ tiêu đề\n",
        "            header = members[0]\n",
        "            members.pop(0)\n",
        "                \n",
        "            inactive = [member for member in members if ('no' in member)]\n",
        "            '''\n",
        "            The above is the same as\n",
        "\n",
        "            for member in active:\n",
        "            if 'no' in member:\n",
        "                inactive.append(member)\n",
        "            '''\n",
        "            #đi tới phần đầu file ghi\n",
        "            writeFile.seek(0)\n",
        "            writeFile.write(header)\n",
        "            for member in members:\n",
        "                if (member in inactive):\n",
        "                    appendFile.write(member)\n",
        "                else:\n",
        "                    writeFile.write(member)      \n",
        "            writeFile.truncate()\n",
        "                \n",
        "memReg = 'members.txt'\n",
        "exReg = 'inactive.txt'\n",
        "cleanFiles(memReg,exReg)\n",
        "\n",
        "# code giúp bạn thấy file\n",
        "\n",
        "headers = \"Membership No  Date Joined  Active  \\n\"\n",
        "\n",
        "with open(memReg,'r') as readFile:\n",
        "    print(\"Active Members: \\n\\n\")\n",
        "    print(readFile.read())\n",
        "    \n",
        "with open(exReg,'r') as readFile:\n",
        "    print(\"Inactive Members: \\n\\n\")\n",
        "    print(readFile.read())\n",
        "    \n",
        "```\n",
        "\n",
        "</details>\n"
      ]
    }
  ]
}